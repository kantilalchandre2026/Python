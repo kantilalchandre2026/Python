{
 "cells": [
  {
   "cell_type": "code",
   "execution_count": null,
   "id": "38157eda",
   "metadata": {},
   "outputs": [],
   "source": [
    "Tuple:\n",
    "    it is also collection of elements/data type\n",
    "    it is immutable type -> we cannt perform insert/delete/update operation\n",
    "    it is read only type\n",
    "    it is denoted by ()\n",
    "    "
   ]
  },
  {
   "cell_type": "code",
   "execution_count": 1,
   "id": "2f74e5b5",
   "metadata": {},
   "outputs": [],
   "source": [
    "p1 = (34,765,34,645)"
   ]
  },
  {
   "cell_type": "code",
   "execution_count": 2,
   "id": "000ddaf6",
   "metadata": {},
   "outputs": [
    {
     "data": {
      "text/plain": [
       "tuple"
      ]
     },
     "execution_count": 2,
     "metadata": {},
     "output_type": "execute_result"
    }
   ],
   "source": [
    "type(p1)"
   ]
  },
  {
   "cell_type": "code",
   "execution_count": 3,
   "id": "a6a930bf",
   "metadata": {},
   "outputs": [
    {
     "ename": "AttributeError",
     "evalue": "'tuple' object has no attribute 'insert'",
     "output_type": "error",
     "traceback": [
      "\u001b[1;31m---------------------------------------------------------------------------\u001b[0m",
      "\u001b[1;31mAttributeError\u001b[0m                            Traceback (most recent call last)",
      "\u001b[1;32m<ipython-input-3-baa5233e3bd8>\u001b[0m in \u001b[0;36m<module>\u001b[1;34m\u001b[0m\n\u001b[1;32m----> 1\u001b[1;33m \u001b[0mp1\u001b[0m\u001b[1;33m.\u001b[0m\u001b[0minsert\u001b[0m\u001b[1;33m(\u001b[0m\u001b[1;36m2\u001b[0m\u001b[1;33m,\u001b[0m\u001b[1;36m300\u001b[0m\u001b[1;33m)\u001b[0m\u001b[1;33m\u001b[0m\u001b[1;33m\u001b[0m\u001b[0m\n\u001b[0m",
      "\u001b[1;31mAttributeError\u001b[0m: 'tuple' object has no attribute 'insert'"
     ]
    }
   ],
   "source": [
    "p1.insert(2,300)"
   ]
  },
  {
   "cell_type": "code",
   "execution_count": 4,
   "id": "e8e51050",
   "metadata": {},
   "outputs": [
    {
     "data": {
      "text/plain": [
       "0"
      ]
     },
     "execution_count": 4,
     "metadata": {},
     "output_type": "execute_result"
    }
   ],
   "source": [
    "p1.count(100)"
   ]
  },
  {
   "cell_type": "code",
   "execution_count": 5,
   "id": "d223417d",
   "metadata": {},
   "outputs": [
    {
     "data": {
      "text/plain": [
       "(34, 765, 34, 645)"
      ]
     },
     "execution_count": 5,
     "metadata": {},
     "output_type": "execute_result"
    }
   ],
   "source": [
    "p1"
   ]
  },
  {
   "cell_type": "code",
   "execution_count": 14,
   "id": "8437e177",
   "metadata": {},
   "outputs": [
    {
     "data": {
      "text/plain": [
       "3"
      ]
     },
     "execution_count": 14,
     "metadata": {},
     "output_type": "execute_result"
    }
   ],
   "source": [
    "p1.index(645)"
   ]
  },
  {
   "cell_type": "code",
   "execution_count": null,
   "id": "65633fbd",
   "metadata": {},
   "outputs": [],
   "source": [
    "What is the use of Tuple?\n",
    "Ans : infrequent --> data change --> tuple"
   ]
  },
  {
   "cell_type": "code",
   "execution_count": 8,
   "id": "315d3098",
   "metadata": {},
   "outputs": [],
   "source": [
    "cred = ('admin','admin@123',3306)"
   ]
  },
  {
   "cell_type": "code",
   "execution_count": 9,
   "id": "4996000e",
   "metadata": {},
   "outputs": [],
   "source": [
    "#git --> aws --> docker --> jenkins --> "
   ]
  },
  {
   "cell_type": "code",
   "execution_count": 12,
   "id": "1ffdabd4",
   "metadata": {},
   "outputs": [],
   "source": [
    "p4 = [32,75,34,]"
   ]
  },
  {
   "cell_type": "code",
   "execution_count": 13,
   "id": "ce3d94f0",
   "metadata": {},
   "outputs": [
    {
     "data": {
      "text/plain": [
       "[32, 75, 34]"
      ]
     },
     "execution_count": 13,
     "metadata": {},
     "output_type": "execute_result"
    }
   ],
   "source": [
    "p4"
   ]
  },
  {
   "cell_type": "code",
   "execution_count": null,
   "id": "98f54b7b",
   "metadata": {},
   "outputs": [],
   "source": [
    "coding --> .py\n",
    "\n",
    "Data Analysis\n",
    "ML\n",
    "DS\n",
    "DE"
   ]
  }
 ],
 "metadata": {
  "kernelspec": {
   "display_name": "Python 3",
   "language": "python",
   "name": "python3"
  },
  "language_info": {
   "codemirror_mode": {
    "name": "ipython",
    "version": 3
   },
   "file_extension": ".py",
   "mimetype": "text/x-python",
   "name": "python",
   "nbconvert_exporter": "python",
   "pygments_lexer": "ipython3",
   "version": "3.8.8"
  }
 },
 "nbformat": 4,
 "nbformat_minor": 5
}
